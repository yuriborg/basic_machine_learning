{
  "nbformat": 4,
  "nbformat_minor": 0,
  "metadata": {
    "colab": {
      "provenance": [],
      "toc_visible": true,
      "include_colab_link": true
    },
    "kernelspec": {
      "name": "python3",
      "display_name": "Python 3"
    },
    "language_info": {
      "name": "python"
    }
  },
  "cells": [
    {
      "cell_type": "markdown",
      "metadata": {
        "id": "view-in-github",
        "colab_type": "text"
      },
      "source": [
        "<a href=\"https://colab.research.google.com/github/yuriborg/scikit_learn_beginner_tutorial/blob/main/calculo_numerico_resumo.ipynb\" target=\"_parent\"><img src=\"https://colab.research.google.com/assets/colab-badge.svg\" alt=\"Open In Colab\"/></a>"
      ]
    },
    {
      "cell_type": "markdown",
      "source": [
        "# Zeros de Funções"
      ],
      "metadata": {
        "id": "byKpyxH4FxEq"
      }
    },
    {
      "cell_type": "markdown",
      "source": [
        "## Método da Bissecção/Dicotomia"
      ],
      "metadata": {
        "id": "fGKNYRTVFl8e"
      }
    },
    {
      "cell_type": "code",
      "execution_count": null,
      "metadata": {
        "colab": {
          "base_uri": "https://localhost:8080/"
        },
        "id": "shTjwPiaFfaV",
        "outputId": "4823ebbd-ba4a-4018-c0bd-efc7d764b14c"
      },
      "outputs": [
        {
          "output_type": "stream",
          "name": "stdout",
          "text": [
            "Apos 3 iteracoes:\n",
            "a3 igual a 1.25\n",
            "b3 igual a 1.375\n",
            "p3 igual a 1.3125\n"
          ]
        }
      ],
      "source": [
        "#Programa Python para um exemplo dado em aula.\n",
        "\n",
        "#Queremos achar o zero da funcao abaixo\n",
        "def f(x):\n",
        "    return x**3+4*x**2-10\n",
        "\n",
        "#[a,b] o intervalo, p=p0 e N o numero de iteracoes.\n",
        "a = 1\n",
        "b = 2\n",
        "p = a+(b-a)/2\n",
        "N = 3\n",
        "\n",
        "#Metodo da bissecao feito abaixo:\n",
        "i = 0\n",
        "while i<N:\n",
        "    if f(p)==0:\n",
        "        break\n",
        "    elif f(a)*f(p)<0:\n",
        "        b = p\n",
        "        p = a+(b-a)/2\n",
        "    else:\n",
        "        a = p\n",
        "        p = a+(b-a)/2\n",
        "    i = i+1\n",
        "\n",
        "#Imprimimos os valores de an, bn e pn. Distinguimos o caso em que se acha\n",
        "#o zero e o caso em que sao feitas todas as N iteracoes.\n",
        "\n",
        "if f(p)==0:\n",
        "    print(\"p{} foi obtido exatamente e igual a {}\".format(i,p))\n",
        "else:\n",
        "    print(\"Apos {} iteracoes:\".format(N))\n",
        "    print(\"a{} igual a {}\".format(N,a))\n",
        "    print(\"b{} igual a {}\".format(N,b))\n",
        "    print(\"p{} igual a {}\".format(N,p))"
      ]
    },
    {
      "cell_type": "markdown",
      "source": [
        "## Método do Ponto Fixo / Método de Aproximações Sucessivas (MAS)"
      ],
      "metadata": {
        "id": "cEB0X7mkFu1H"
      }
    },
    {
      "cell_type": "code",
      "source": [
        "#Programa Python para um exemplo dado em aula.\n",
        "#Usaremos o numpy para o cosseno. Poderiamos usar math tambem.\n",
        "import numpy as np\n",
        "\n",
        "#Queremos achar um ponto fixo da funcao abaixo.\n",
        "def g(x):\n",
        "    return np.cos(x)\n",
        "\n",
        "#N e o numero de iteracoes, p o valor inicial.\n",
        "N = 5\n",
        "p = 444.44\n",
        "i = 0\n",
        "\n",
        "#Aqui imprimimos p0. Usamos \\t para adicionar espaco.\n",
        "print(\"p{} igual a \\t {}\".format(i,p))\n",
        "\n",
        "#Aqui estamos calulando e imprimindo pi, para i>0.\n",
        "for i in range(N):\n",
        "    p = g(p)\n",
        "    print(\"p{} igual a \\t {}\".format(i+1,p))"
      ],
      "metadata": {
        "colab": {
          "base_uri": "https://localhost:8080/"
        },
        "id": "aNYb0ERpHSMw",
        "outputId": "e0e0b410-2992-4162-d811-cf03f4b2dd45"
      },
      "execution_count": null,
      "outputs": [
        {
          "output_type": "stream",
          "name": "stdout",
          "text": [
            "p0 igual a \t 444.44\n",
            "p1 igual a \t -0.09521601996297555\n",
            "p2 igual a \t 0.995470378486244\n",
            "p3 igual a \t 0.5441082951012782\n",
            "p4 igual a \t 0.8555892266982379\n",
            "p5 igual a \t 0.6557737825194007\n"
          ]
        }
      ]
    },
    {
      "cell_type": "markdown",
      "source": [
        "## Método de Convergência Alternada"
      ],
      "metadata": {
        "id": "fnU9BuRFHaDJ"
      }
    },
    {
      "cell_type": "code",
      "source": [
        "# Programa em Python para exemplo de metodo iterativo de convergencia alternada\n",
        "\n",
        "# ---------------------------------------------------------------------------\n",
        "\n",
        "#Usamos o numpy apenas para usar a funcao modulo (np.abs)\n",
        "import numpy as np\n",
        "\n",
        "#Abaixo segue a funcao que queremos achar o ponto fixo\n",
        "def g(x):\n",
        "    return 2.08/(x+0.96)\n",
        "#p e o ponto inicial, epsilon e o erro maximo que queremos e\n",
        "#i indica o numero de iteracoes\n",
        "p = 0.5\n",
        "print(\"p0 igual a \\t {}\".format(p))\n",
        "epsilon = 0.04\n",
        "i = 1\n",
        "#O metodo so para quando |p-phi(p)|<=2*epsilon\n",
        "while (np.abs(g(p)-p)>2*epsilon):\n",
        "    p = g(p)\n",
        "    print(\"p{} igual a \\t {}\".format(i,p))\n",
        "    i = i+1\n",
        "#Abaixo imprimimos o valor de phi(p) com o p final\n",
        "print(\"g(p{}) igual a \\t {}\".format(i-1,g(p)))\n",
        "#p abaixo e o nosso p final\n",
        "p = (p+g(p))/2\n",
        "print(\"pfinal igual a \\t {}\".format(p))\n",
        "\n",
        "\n",
        "# ---------------------------------------------------------------------------\n",
        "# ---------------------------------------------------------------------------\n",
        "# ---------------------------------------------------------------------------\n",
        "\n",
        "\n",
        "# Programa em Python para um exemplo de metodo iterativo de convergencia monotona\n",
        "\n",
        "# ---------------------------------------------------------------------------\n",
        "\n",
        "#Abaixo segue a funcao que queremos achar o ponto fixo\n",
        "def g(x):\n",
        "    return x+(2-x*x)/4\n",
        "\n",
        "#p e o ponto inicial, epsilon e o erro maximo que queremos e\n",
        "#i indica o numero de iteracoes\n",
        "p = 0.5\n",
        "epsilon = 0.03\n",
        "print(\"p0 igual a \\t {}\".format(p))\n",
        "i = 1\n",
        "#O metodo so para quando g(p+2*epsilon)<=p+2*epsilon\n",
        "while g(p+2*epsilon)>p+2*epsilon:\n",
        "    p = g(p+2*epsilon)\n",
        "    print(\"p{} igual a \\t {}\".format(i,p))\n",
        "    i = i+1\n",
        "#p abaixo e o nosso p final\n",
        "p = p + epsilon\n",
        "print(\"pfinal igual a \\t {}\".format(p))"
      ],
      "metadata": {
        "colab": {
          "base_uri": "https://localhost:8080/"
        },
        "id": "74_00oofHa4u",
        "outputId": "3db46482-fba4-4832-edbb-2cd9846d67d2"
      },
      "execution_count": null,
      "outputs": [
        {
          "output_type": "stream",
          "name": "stdout",
          "text": [
            "p0 igual a \t 0.5\n",
            "p1 igual a \t 1.4246575342465755\n",
            "p2 igual a \t 0.8722426470588235\n",
            "p3 igual a \t 1.1352208198727853\n",
            "p4 igual a \t 0.9927354578913982\n",
            "g(p4) igual a \t 1.0651724439141514\n",
            "pfinal igual a \t 1.0289539509027747\n",
            "p0 igual a \t 0.5\n",
            "p1 igual a \t 0.9816\n",
            "p2 igual a \t 1.27036736\n",
            "p3 igual a \t 1.3878980318616576\n",
            "pfinal igual a \t 1.4178980318616576\n"
          ]
        }
      ]
    },
    {
      "cell_type": "markdown",
      "source": [
        "## Método de Newton-Raphson"
      ],
      "metadata": {
        "id": "Zg--WN8WHn3M"
      }
    },
    {
      "cell_type": "code",
      "source": [
        "#Método de Newton para calcular raiz de 2\n",
        "\n",
        "#Queremos achar o zero da função x*x-2 usando o método de Newton\n",
        "\n",
        "#Abaixo, fixamos o nosso p0 e o número de iterações N\n",
        "p = 3.0\n",
        "N = 10\n",
        "print(\"p0 é igual a {}\".format(p))\n",
        "\n",
        "#A cada nova iteração, fazemos p = p - (p*p-2)/2*p\n",
        "for i in range(N):\n",
        "    p= p/2+1/p\n",
        "    print(\"p{} é igual a {}\".format(i+1,p))\n",
        "\n",
        "# -----------------------------------------------------------\n",
        "\n",
        "#Método de Newton com aceleração para calcular raiz de 2\n",
        "\n",
        "#Queremos achar o zero da função x*x-2 usando o método de Newton com aceleração\n",
        "\n",
        "#Abaixo damos o nosso p0 e o máximo erro que queremos E\n",
        "#i conta o número de iterações\n",
        "p = 3.0\n",
        "E = 0.01\n",
        "i = 0\n",
        "print(\"p0 é igual a {}\".format(p))\n",
        "\n",
        "#A cada nova iteração, fazemos p = p-2*E - ((p-2*E)*(p-2*E)-2)/(2*(p-2*E))\n",
        "#Paramos apenas quando f(p-2*E)<=0\n",
        "while ((p-2*E)*(p-2*E)-2)>0:\n",
        "    p = (p-2*E)/2+1/(p-2*E)\n",
        "    i = i+1\n",
        "    print(\"p{} é igual a {}\".format(i+1,p))\n",
        "print(\"O p final é igual a {}\".format(p-E))"
      ],
      "metadata": {
        "colab": {
          "base_uri": "https://localhost:8080/"
        },
        "id": "LMdq_xphHnJ8",
        "outputId": "cc0af18b-8f03-4826-c0c0-603712d32a07"
      },
      "execution_count": null,
      "outputs": [
        {
          "output_type": "stream",
          "name": "stdout",
          "text": [
            "p0 é igual a 3.0\n",
            "p1 é igual a 1.8333333333333333\n",
            "p2 é igual a 1.4621212121212122\n",
            "p3 é igual a 1.414998429894803\n",
            "p4 é igual a 1.4142137800471977\n",
            "p5 é igual a 1.4142135623731118\n",
            "p6 é igual a 1.414213562373095\n",
            "p7 é igual a 1.414213562373095\n",
            "p8 é igual a 1.414213562373095\n",
            "p9 é igual a 1.414213562373095\n",
            "p10 é igual a 1.414213562373095\n",
            "p0 é igual a 3.0\n",
            "p2 é igual a 1.8255704697986577\n",
            "p3 é igual a 1.4566268139053875\n",
            "p4 é igual a 1.414388400347504\n",
            "O p final é igual a 1.404388400347504\n"
          ]
        }
      ]
    },
    {
      "cell_type": "markdown",
      "source": [
        "# Resolução de Sistemas Lineares"
      ],
      "metadata": {
        "id": "SmG0YwOnSPlB"
      }
    },
    {
      "cell_type": "markdown",
      "source": [
        "## Escalonamento"
      ],
      "metadata": {
        "id": "QyjfkDDxSME7"
      }
    },
    {
      "cell_type": "code",
      "source": [
        "#Abaixo vamos escalonar o exemplo 1 dado em sala de aula.\n",
        "#O método abaixo apenas funciona para escalonamentos de matrizes que não requerem de mudanças de linhas.\n",
        "\n",
        "#Código Python com explicações:\n",
        "\n",
        "\n",
        "'''\n",
        "Método de eliminação de Gauss para quando não é necessário troca de linhas.\n",
        "O algoritmo é:\n",
        "Para k = 1,...,n:\n",
        "    Para j=k+1,...,n:\n",
        "        Lj vira Lj - (ajk/akk)*Lk\n",
        "'''\n",
        "\n",
        "import numpy as np\n",
        "\n",
        "#Abaixo A é a matriz aumentada. N é o número de linhas da matriz A\n",
        "n = 4\n",
        "A = [[1.,1.,0.,3.,4.],[2.,1.,-1.,1.,1.],[3.,-1.,-1.,2.,-3.],[-1.,2.,3.,-1.,4.]]\n",
        "A = np.array(A)\n",
        "print(\"A matriz original é\")\n",
        "print(A)\n",
        "\n",
        "for k in range(n):\n",
        "    for j in range(k+1,n):\n",
        "        # Abaixo estamos fazendo Lj vira Lj - (ajk/akk)*Lk\n",
        "        m = A[j,k]/A[k,k]\n",
        "        # Também podemos usar A[j,:] = A[j,:]-m*A[k,:] ao invés do que foi feito abaixo\n",
        "        for l in range(n+1):\n",
        "            A[j,l] = A[j,l]-m*A[k,l]\n",
        "print(\"\\nA matriz escalonada é\")\n",
        "print(A)\n",
        "'''\n",
        "Para achar a solução, fazemos\n",
        "para j = n,n-1,...,1:\n",
        "    xj=(bj-(somatória de k=j+1 a n (ajk*xk)))/ajj\n",
        "'''\n",
        "#x é o vetor solução. Começamos definindo um vetor com n zeros.\n",
        "x = np.zeros(n)\n",
        "#Aqui j vai de n-1, n-2, ..., até 0\n",
        "for j in range(n-1,-1,-1):\n",
        "    #somatoria será igual a (somatória de k=j+1 a n (ajk*xk))\n",
        "    somatoria =  0\n",
        "    for k in range(j+1,n):\n",
        "        somatoria = somatoria + A[j,k]*x[k]\n",
        "    #Aqui calculamos xj\n",
        "    x[j]=(A[j,n]-somatoria)/A[j,j]\n",
        "print(\"\\nA solução é\")\n",
        "print(x)"
      ],
      "metadata": {
        "colab": {
          "base_uri": "https://localhost:8080/"
        },
        "id": "NI2DJQAFSMLb",
        "outputId": "de7b685b-0115-4e7a-f897-b243974a11d0"
      },
      "execution_count": null,
      "outputs": [
        {
          "output_type": "stream",
          "name": "stdout",
          "text": [
            "A matriz original é\n",
            "[[ 1.  1.  0.  3.  4.]\n",
            " [ 2.  1. -1.  1.  1.]\n",
            " [ 3. -1. -1.  2. -3.]\n",
            " [-1.  2.  3. -1.  4.]]\n",
            "\n",
            "A matriz escalonada é\n",
            "[[  1.   1.   0.   3.   4.]\n",
            " [  0.  -1.  -1.  -5.  -7.]\n",
            " [  0.   0.   3.  13.  13.]\n",
            " [  0.   0.   0. -13. -13.]]\n",
            "\n",
            "A solução é\n",
            "[-1.  2.  0.  1.]\n"
          ]
        }
      ]
    },
    {
      "cell_type": "markdown",
      "source": [
        "## Método de Jacobi"
      ],
      "metadata": {
        "id": "eKUC2IUTwNIY"
      }
    },
    {
      "cell_type": "code",
      "source": [
        "#Método de Jacobi\n",
        "\n",
        "import numpy as np\n",
        "\n",
        "#Escolhemos o tamanho da matriz n x n e o número de iterações Nit\n",
        "n = 4\n",
        "Nit = 3\n",
        "#Abaixo estão as matrizes A, b e nosso x0, que no caso é igual ao vetor 0\n",
        "A = np.array([[10.,-1.,2.,0.],[-1.,11.,-1,3.],[2.,-1.,10.,-1.],[0.,3.,-1.,8.]])\n",
        "b = np.array([6.,25.,-11.,15.])\n",
        "x = np.zeros(4)\n",
        "#y irá nos ajudar a guardar a nova iteração\n",
        "y = np.zeros(n)\n",
        "print(\"x0 é igual a\")\n",
        "print(x)\n",
        "#O primeiro for é responsável por fazer Nit iterações\n",
        "for k in range(Nit):\n",
        "#O segundo for é para escrever cada x(k+1)_j em função dos x(k)_js\n",
        "    for j in range(n):\n",
        "        l = 0\n",
        "        somatoria = 0\n",
        "#o terceiro for é só para fazer a somatória\n",
        "        for l in range(n):\n",
        "            if l!=j:\n",
        "                somatoria = somatoria + A[j,l]*x[l]\n",
        "        y[j] = (b[j] - somatoria)/A[j,j]\n",
        "#Cuidado ao copiar o vetor y no x. Se você escrever x = y, então x e y viram o\n",
        "#mesmo vetor. Tudo o que se fizer em um, vai fazer no outro também. Para copiar,\n",
        "#use np.copy().\n",
        "    x = np.copy(y)\n",
        "    print(\"\\nx{} é igual a \".format(k+1))\n",
        "    print(x)"
      ],
      "metadata": {
        "id": "f-o0HtY5wPXf"
      },
      "execution_count": null,
      "outputs": []
    },
    {
      "cell_type": "markdown",
      "source": [
        "## Método de Gauss-Siedel"
      ],
      "metadata": {
        "id": "b8ZexoDFwS_8"
      }
    },
    {
      "cell_type": "code",
      "source": [
        "#Método de Gauss-Seidel\n",
        "\n",
        "import numpy as np\n",
        "\n",
        "#Escolhemos o tamanho da matriz n x n e o número de iterações Nit\n",
        "n = 3\n",
        "Nit = 2\n",
        "#Abaixo estão as matrizes A, b e nosso x0, que no caso é igual ao vetor 0\n",
        "A = np.array([[4.,1.,1.],[-2.,5.,1.],[3.,1.,6.]])\n",
        "b = np.array([5.,0.,-6.5])\n",
        "x = np.zeros(3)\n",
        "print(\"x0 é igual a\")\n",
        "print(x)\n",
        "#O primeiro for é responsável por fazer Nit iterações\n",
        "for k in range(Nit):\n",
        "#O segundo for é para escrever cada x(k+1)_j em função dos x(k)_js\n",
        "#Note que, aqui no Gauss-Seidel, os novos x_js são colocados no x_js antigo\n",
        "    for j in range(n):\n",
        "        l = 0\n",
        "        somatoria = 0\n",
        "#o terceiro for é só para fazer a somatória\n",
        "        for l in range(n):\n",
        "            if l!=j:\n",
        "                somatoria = somatoria + A[j,l]*x[l]\n",
        "        x[j] = (b[j] - somatoria)/A[j,j]\n",
        "    print(\"\\nx{} é igual a \".format(k+1))\n",
        "    print(x)"
      ],
      "metadata": {
        "id": "uAQXjGArwU0m",
        "colab": {
          "base_uri": "https://localhost:8080/"
        },
        "outputId": "4219d0fd-bf6f-420c-bea3-44be2a8b49b9"
      },
      "execution_count": null,
      "outputs": [
        {
          "output_type": "stream",
          "name": "stdout",
          "text": [
            "x0 é igual a\n",
            "[0. 0. 0.]\n",
            "\n",
            "x1 é igual a \n",
            "[ 1.25        0.5        -1.79166667]\n",
            "\n",
            "x2 é igual a \n",
            "[ 1.57291667  0.9875     -2.034375  ]\n"
          ]
        }
      ]
    },
    {
      "cell_type": "markdown",
      "source": [
        "## Critério de Sassenfield (Minimização de Erro)"
      ],
      "metadata": {
        "id": "ty1GFTCtcvfv"
      }
    },
    {
      "cell_type": "code",
      "source": [
        "#Abaixo vamos achar os coeficientes de uma reta y = ax+b que minimizem os erros quadrátricos\n",
        "\n",
        "#Vamos usar além do numpy, o matplotlib para plotar os dados e a reta\n",
        "import numpy as np\n",
        "import matplotlib.pyplot as plt\n",
        "\n",
        "#Os dados x,y são dados abaixo. n indica o número de pontos\n",
        "x = np.array([0.,1.,2.,3.,4.])\n",
        "y = np.array([0.,1.,1.,4.,4.])\n",
        "n = 5\n",
        "\n",
        "#Abaixo xx indica a soma dos xi^2, xy a soma dos xiyi, x1 a soma dos xi e y1 a soma dos yi\n",
        "xx = 0\n",
        "xy = 0\n",
        "x1 = 0\n",
        "y1 = 0\n",
        "\n",
        "#Cada um dos for abaixo é para fazer as somatórias\n",
        "for i in range(5):\n",
        "    xx = xx + x[i]*x[i]\n",
        "for i in range(5):\n",
        "    xy = xy + x[i]*y[i]\n",
        "for i in range(5):\n",
        "    x1 = x1 + x[i]\n",
        "for i in range(5):\n",
        "    y1 = y1 + y[i]\n",
        "\n",
        "#a e b são os coeficientes da reta y = ax+b\n",
        "b = (xx*y1-x1*xy)/(n*xx-x1**2)\n",
        "a = (n*xy-x1*y1)/(n*xx-x1**2)\n",
        "\n",
        "#Abaixo imprimimos os resultados\n",
        "print(\"Os coeficientes da reta y = ax+b são\")\n",
        "print(\"a = {}\".format(a))\n",
        "print(\"b = {}\".format(b))\n",
        "\n",
        "#Abaixo plotamos os pontos x e y com cor verde \"go\"\n",
        "plt.plot(x,y,\"go\")\n",
        "\n",
        "#Abaixo definimos a fórmula da reta e depois plotamos a reta em azul entre 0 e 4\n",
        "def reta(x):\n",
        "    return a*x+b\n",
        "z = np.linspace(0,4,10)\n",
        "plt.plot(z,reta(z),color=\"blue\")"
      ],
      "metadata": {
        "id": "UIggGGFEcv-9"
      },
      "execution_count": null,
      "outputs": []
    },
    {
      "cell_type": "markdown",
      "source": [
        "## Eliminação de Gauss"
      ],
      "metadata": {
        "id": "NiN5W4p3c7s1"
      }
    },
    {
      "cell_type": "code",
      "source": [
        "#Abaixo um programa para resolver a um dos exemplos dados em sala de aula.\n",
        "\n",
        "import numpy as np\n",
        "import matplotlib.pyplot as plt\n",
        "\n",
        "#Aqui é a função que resolve o sistema dado pela matriz (aumentada) A.\n",
        "#O método usado é a eliminação de Gauss. Do jeito que está,\n",
        "#só consegue resolver sistemas que não precisem de trocas de linhas.\n",
        "def solucaosistema(A):\n",
        "    n = A.shape[0]\n",
        "    for k in range(n):\n",
        "        for j in range(k+1,n):\n",
        "            m = A[j,k]/A[k,k]\n",
        "            for l in range(n+1):\n",
        "                A[j,l] = A[j,l]-m*A[k,l]\n",
        "    x = np.zeros(n)\n",
        "    for j in range(n-1,-1,-1):\n",
        "        somatoria = 0\n",
        "        for k in range(j+1,n):\n",
        "            somatoria = somatoria + A[j,k]*x[k]\n",
        "        x[j]=(A[j,n]-somatoria)/A[j,j]\n",
        "    return(x)\n",
        "\n",
        "#Aqui definimos as funções 1, x e x*x\n",
        "def g(j,x):\n",
        "    if j==0:\n",
        "        return x-x+1\n",
        "    if j==1:\n",
        "        return x\n",
        "    if j==2:\n",
        "        return x*x\n",
        "\n",
        "#Aqui definimos a função produto interno\n",
        "def prod(a,b):\n",
        "    soma = 0\n",
        "    for i in range(n):\n",
        "        soma = soma + a[i]*b[i]\n",
        "    return soma\n",
        "\n",
        "#n é o número de dados.\n",
        "#Nf é o número de funções. Aqui Nf = 3, pois temos as funções 1, x, x*x.\n",
        "n = 5\n",
        "nf = 3\n",
        "\n",
        "#Aqui temos os nossos dados x e y\n",
        "x = np.array([0.,0.25,0.5,0.75,1.0])\n",
        "y = np.array([1.0,1.284,1.6487,2.1170,2.7183])\n",
        "\n",
        "#Aqui montamos uma matriz cujas linhas são os vetores w0, w1, w2 formados pela\n",
        "#aplicação das funções g no vetor x.\n",
        "w = np.zeros([nf,n])\n",
        "for i in range(nf):\n",
        "    w[i,:] = g(i,x)\n",
        "\n",
        "#Agora vamos definir a matriz A que representará o sistema normal\n",
        "A = np.zeros([nf,nf+1])\n",
        "for i in range(nf):\n",
        "    for j in range(nf):\n",
        "        A[i,j] = prod(w[i,:],w[j,:])\n",
        "for i in range(nf):\n",
        "    A[i,nf] = prod(w[i,:],y)\n",
        "\n",
        "#Aqui imprimimos o sistema normal\n",
        "print(\"\\nO sistema normal é dado pela matriz abaixo:\\n\")\n",
        "print(A)\n",
        "\n",
        "#Aqui resolvemos o sistema normal e imprimimos a sua solução\n",
        "sol = solucaosistema(A)\n",
        "print(\"\\nA função dada pelo MMQ é y(x)=a+b*x+c*x**2, em que\\n\")\n",
        "print(\"a = {}\\nb = {}\\nc = {}\".format(sol[0],sol[1],sol[2]))\n",
        "\n",
        "#Aqui plotamos nossos dados x e y\n",
        "plt.plot(x,y,'go')\n",
        "\n",
        "#Aqui plotamos a função encontrada pelo MMQ\n",
        "def funcao(x):\n",
        "    return sol[0]+sol[1]*x+sol[2]*x*x\n",
        "t = np.linspace(0,1)\n",
        "plt.plot(t,funcao(t))"
      ],
      "metadata": {
        "id": "eU_9QFZEc8C4"
      },
      "execution_count": null,
      "outputs": []
    },
    {
      "cell_type": "markdown",
      "source": [
        "\n",
        "# Método dos Mínimos Quadrados\n"
      ],
      "metadata": {
        "id": "1eYVQLXHdOAg"
      }
    },
    {
      "cell_type": "markdown",
      "source": [
        "## Série de Fourier (Polinômio Trigonométrico Contínuo)"
      ],
      "metadata": {
        "id": "Wap1ZBzhdOim"
      }
    },
    {
      "cell_type": "code",
      "source": [
        "#Abaixo as figuras plotadas nas notas de aula\n",
        "\n",
        "'''\n",
        "---------------------------------------------------------------\n",
        "Exemplo de série de Fourier (polinômio trigonométrico contínuo)\n",
        "---------------------------------------------------------------\n",
        "'''\n",
        "\n",
        "import numpy as np\n",
        "import matplotlib.pyplot as plt\n",
        "\n",
        "def f(x):\n",
        "    return x\n",
        "\n",
        "def S(x,n):\n",
        "    s = 0\n",
        "    for i in range(1,n+1):\n",
        "        s = s + (2/i)*(-1)**(i+1)*np.sin(i*x)\n",
        "    return s\n",
        "\n",
        "t = np.linspace(-np.pi,np.pi,1000)\n",
        "f, = plt.plot(t,f(t))\n",
        "S1, = plt.plot(t,S(t,1))\n",
        "S2, = plt.plot(t,S(t,2))\n",
        "S10, = plt.plot(t,S(t,20))\n",
        "plt.legend([f,S1,S2,S10],[\"função\",\"Série 1 termo\",\"Série 2 termos\",\"Série 20 termos\"])\n",
        "\n",
        "'''\n",
        "---------------------------------------------------------------\n",
        "Exemplo de polinômio trigonométrico discreto\n",
        "---------------------------------------------------------------\n",
        "\n",
        "\n",
        "import numpy as np\n",
        "import matplotlib.pyplot as plt\n",
        "\n",
        "def f(x):\n",
        "    return 2*x**2-9\n",
        "\n",
        "def S(x):\n",
        "    return (1/2)*(-4.109)-8.773*np.cos(x)+2.924*np.cos(2*x)\n",
        "\n",
        "x = np.array([-np.pi,-2*np.pi/3,-np.pi/3,0,np.pi/3,2*np.pi/3])\n",
        "\n",
        "p, = plt.plot(x,f(x),\"go\")\n",
        "t = np.linspace(-np.pi,np.pi,1000)\n",
        "f, = plt.plot(t,f(t),color='blue')\n",
        "S, = plt.plot(t,S(t),color='red')\n",
        "\n",
        "plt.legend([f,S,p],[\"função\",\"Aproximação\",\"pontos\"])\n",
        "\n",
        "\n",
        "---------------------------------------------------------------\n",
        "Exemplo usando polinômios ortogonais\n",
        "---------------------------------------------------------------\n",
        "\n",
        "\n",
        "import numpy as np\n",
        "import matplotlib.pyplot as plt\n",
        "\n",
        "#Polinômio ortogonal\n",
        "def f(x):\n",
        "    return np.e**x\n",
        "\n",
        "def g(x):\n",
        "    return 3*(13*np.e-35)+12*(49-18*np.e)*x+30*(7*np.e-19)*x**2\n",
        "\n",
        "def h(x):\n",
        "    return np.e-1+6*(3-np.e)*(x-1/2)+30*(7*np.e-19)*(x**2-x+1/6)\n",
        "\n",
        "t = np.linspace(-0.1,1.1)\n",
        "f, = plt.plot(t,f(t),color='blue')\n",
        "g, = plt.plot(t,g(t),color='red')\n",
        "plt.legend([f,g],[\"função\",\"aproximação polinomial\"])\n",
        "'''"
      ],
      "metadata": {
        "id": "ITzl_iCVdO4C"
      },
      "execution_count": null,
      "outputs": []
    },
    {
      "cell_type": "markdown",
      "source": [
        "# Interpolação"
      ],
      "metadata": {
        "id": "595sz3Ncdo2k"
      }
    },
    {
      "cell_type": "code",
      "source": [
        "#Abaixo segue o programa usado em aula para plotar as funções em Python.\n",
        "\n",
        "import numpy as np\n",
        "import matplotlib.pyplot as plt\n",
        "\n",
        "def interpolar():\n",
        "    x = np.array([2.0,2.75,4.0])\n",
        "    y = np.array([1/2,1/2.75,1/4])\n",
        "    def f(x):\n",
        "        return 1/x\n",
        "    def p(x):\n",
        "        return x**2/22-35*x/88+49/44\n",
        "    s = np.linspace(2.,4.)\n",
        "    fu, = plt.plot(s,f(s))\n",
        "    pol, = plt.plot(s,p(s))\n",
        "    pontos, = plt.plot(x,y,'go')\n",
        "    plt.legend([fu,pol,pontos],[\"função f\",\"polinômio interpolador\",\"pontos\"])\n",
        "\n",
        "def resto():\n",
        "    def W(x):\n",
        "        return (x-2)*(x-2.75)*(x-4)\n",
        "    t = np.linspace(2,4)\n",
        "    plt.plot(t,W(t))\n",
        "\n",
        "x = int(input(\"O que deseja?\\n(1) para gráfico do polinômio de interpolação\\n\\\n",
        "(2) para gráfico do resto\\n\"))\n",
        "\n",
        "if x==1:\n",
        "    interpolar()\n",
        "if x==2:\n",
        "    resto()"
      ],
      "metadata": {
        "id": "XL0EPfyodoVS"
      },
      "execution_count": null,
      "outputs": []
    }
  ]
}